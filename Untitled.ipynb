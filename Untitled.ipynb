{
 "cells": [
  {
   "cell_type": "code",
   "execution_count": 1,
   "id": "78dd4c43",
   "metadata": {},
   "outputs": [],
   "source": [
    "createList = ['5','7','aiquest','studymart']"
   ]
  },
  {
   "cell_type": "code",
   "execution_count": 2,
   "id": "e12d7a99",
   "metadata": {},
   "outputs": [
    {
     "name": "stdout",
     "output_type": "stream",
     "text": [
      "what do you want ? Enter Choice : read/add/update/delete/quitequite\n",
      "you exist from program\n"
     ]
    }
   ],
   "source": [
    "while True:\n",
    "    create_list = input(\"what do you want ? Enter Choice : read/add/update/delete/quite\")\n",
    "    if create_list == \"quite\":\n",
    "        print(\"you exist from program\")\n",
    "        break\n",
    " # read your List\n",
    "    elif create_list == \"read\":\n",
    "        print(\"Congratulations ! this is your list : \" , createList)\n",
    " # add your List\n",
    "    elif create_list == \"add\":\n",
    "        createList.append(input(\"please add your item  :\"))\n",
    "    \n",
    "    # delete element from your list\n",
    "    \n",
    "    elif create_list == \"delete\":\n",
    "        dl = input(\"Enter deleted item : \" , )\n",
    "        if dl in createList:\n",
    "            createList.remove(dl)\n",
    "        else:\n",
    "            print(\"not matched item\")\n",
    "        print(\"This is your deleted List\",createList)\n",
    "        \n",
    "    elif create_list == 'update':\n",
    "            up_wrong = input(\"Enter wrong item :\",)\n",
    "            up_right = input(\"Enter right item :\",)\n",
    "            \n",
    "            if up_wrong in createList:\n",
    "                wr = createList.index(up_wrong)\n",
    "                createList[wr] = up_right\n",
    "                \n",
    "            else:\n",
    "                print(\"Not matched item\")\n",
    "                \n",
    "            print(\"this is your updated list :\", createList)  \n",
    "            \n",
    "    else:\n",
    "            print(\"Please enter right command .\")"
   ]
  },
  {
   "cell_type": "code",
   "execution_count": 3,
   "id": "f1dd49a1",
   "metadata": {},
   "outputs": [
    {
     "name": "stdout",
     "output_type": "stream",
     "text": [
      "What do you want? Enter Choice : read / add / update / delete / quite: \n",
      "Please enter right command.\n",
      "What do you want? Enter Choice : read / add / update / delete / quite: \n",
      "Please enter right command.\n",
      "What do you want? Enter Choice : read / add / update / delete / quite: \n",
      "Please enter right command.\n",
      "What do you want? Enter Choice : read / add / update / delete / quite: quite\n",
      "You exist from program\n"
     ]
    }
   ],
   "source": [
    "createList = ['5', '7', 'aiquest', 'Studymart']\n",
    "\n",
    "while True:\n",
    "    create_list = input(\"What do you want? Enter Choice : read / add / update / delete / quite: \")\n",
    "    if create_list == \"quite\":\n",
    "        print(\"You exist from program\")\n",
    "        break\n",
    "\n",
    "#read your list\n",
    "    elif create_list == 'read':\n",
    "        print(\"Congratulations! This is your list: \",createList)\n",
    "\n",
    "#add your list\n",
    "    elif create_list == 'add':\n",
    "        createList.append(input(\"Please add element to your list : \"))\n",
    "        print(\"This is your added list\",createList)\n",
    "\n",
    "#delete element from your list\n",
    "    elif create_list == 'delete':\n",
    "        dl = input(\"Enter deleted item: \",)\n",
    "        if dl in createList:\n",
    "            createList.remove(dl)\n",
    "        else:\n",
    "            print(\"Not matched item\")\n",
    "        print(\"This is your deleted list\",createList)\n",
    "\n",
    "# update element from your list\n",
    "    elif create_list == 'update':\n",
    "        up_wrong = input(\"Enter  wrong item: \", )\n",
    "        up_ridht = input(\"Enter right item: \", )\n",
    "        if up_wrong in createList:\n",
    "            wr = createList.index(up_wrong)\n",
    "            createList[wr] = up_ridht\n",
    "        else:\n",
    "            print(\"Not matched item\")\n",
    "        print(\"This is your updated list\", createList)\n",
    "\n",
    "#for right command\n",
    "    else:\n",
    "        print(\"Please enter right command.\")\n",
    "\n",
    "\n"
   ]
  },
  {
   "cell_type": "markdown",
   "id": "12b4b4dc",
   "metadata": {},
   "source": [
    "# Assignment "
   ]
  },
  {
   "cell_type": "code",
   "execution_count": null,
   "id": "eaa4f1e4",
   "metadata": {},
   "outputs": [
    {
     "name": "stdout",
     "output_type": "stream",
     "text": [
      "what do you want? enter a choice : delete/update/add/quite/read :update\n",
      "input your wrong choice properly :ai\n",
      "input your right choice properly :php\n",
      "This is your right choice : ['data science', 'php', 'deep learning', 'maching learning', 'programming']\n",
      "plese enter right choice\n"
     ]
    }
   ],
   "source": [
    "List_of_Choice = [\"data science\",\"ai\",\"deep learning\",\"maching learning\",\"programming\"]\n",
    "\n",
    "while True:\n",
    "    choice = input(\"what do you want? enter a choice : delete/update/add/quite/read :\")\n",
    "    if choice == \"quite\":\n",
    "        print(\"you dont have any choice . just you want to leave\")\n",
    "        break\n",
    "        \n",
    "    # if choice is read\n",
    "    elif choice == \"read\":\n",
    "        print(\"Your choice list is :\", List_of_Choice)\n",
    "        \n",
    "    #if choice is update \n",
    "    \n",
    "    elif choice == \"update\":\n",
    "        wrong_choice = input(\"input your wrong choice properly :\" ,)\n",
    "        right_choice = input(\"input your right choice properly :\" ,)\n",
    "        if wrong_choice in List_of_Choice:\n",
    "            wr = List_of_Choice.index(wrong_choice)\n",
    "            List_of_Choice[wr]=right_choice\n",
    "        else:\n",
    "            print(\"you did not chose properly\")\n",
    "        print(\"This is your right choice :\", List_of_Choice)   \n",
    "        \n",
    "    # if choice is add \n",
    "    elif choice==\"add\":\n",
    "        List_of_Choice.append(input(\"please enter your choice :\",))\n",
    "        print(\"these are your choices :\",List_of_Choice)\n",
    "        \n",
    "    # delele option\n",
    "    \n",
    "    elif choice == \"delete\":\n",
    "        dl = input(\"enter your deleted item\",)\n",
    "        if dl in List_of_Choice:\n",
    "            List_of_Choice.remove(dl)\n",
    "            print(\"List after deletion :\", List_of_Choice)\n",
    "            \n",
    "        else:\n",
    "            print(\"item does not match \")\n",
    "            \n",
    "    print(\"plese enter right choice\")        \n",
    "            \n",
    "            "
   ]
  },
  {
   "cell_type": "code",
   "execution_count": null,
   "id": "4d89e5fd",
   "metadata": {},
   "outputs": [],
   "source": []
  }
 ],
 "metadata": {
  "kernelspec": {
   "display_name": "Python 3 (ipykernel)",
   "language": "python",
   "name": "python3"
  },
  "language_info": {
   "codemirror_mode": {
    "name": "ipython",
    "version": 3
   },
   "file_extension": ".py",
   "mimetype": "text/x-python",
   "name": "python",
   "nbconvert_exporter": "python",
   "pygments_lexer": "ipython3",
   "version": "3.9.12"
  }
 },
 "nbformat": 4,
 "nbformat_minor": 5
}
